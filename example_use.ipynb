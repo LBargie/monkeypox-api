{
 "cells": [
  {
   "cell_type": "code",
   "execution_count": 11,
   "metadata": {},
   "outputs": [],
   "source": [
    "import pandas as pd\n",
    "import httpx\n",
    "import json"
   ]
  },
  {
   "cell_type": "code",
   "execution_count": 5,
   "metadata": {},
   "outputs": [],
   "source": [
    "url = \"http://127.0.0.1:8000/data/\""
   ]
  },
  {
   "cell_type": "code",
   "execution_count": 6,
   "metadata": {},
   "outputs": [],
   "source": [
    "latest = httpx.get(url + \"latest\")"
   ]
  },
  {
   "cell_type": "code",
   "execution_count": 14,
   "metadata": {},
   "outputs": [],
   "source": [
    "content = json.loads(latest.content)"
   ]
  },
  {
   "cell_type": "code",
   "execution_count": 15,
   "metadata": {},
   "outputs": [
    {
     "data": {
      "text/plain": [
       "dict_keys(['date', 'records'])"
      ]
     },
     "execution_count": 15,
     "metadata": {},
     "output_type": "execute_result"
    }
   ],
   "source": [
    "content.keys()"
   ]
  },
  {
   "cell_type": "code",
   "execution_count": 21,
   "metadata": {},
   "outputs": [],
   "source": [
    "records = content[\"records\"]"
   ]
  },
  {
   "cell_type": "code",
   "execution_count": 35,
   "metadata": {},
   "outputs": [
    {
     "data": {
      "text/html": [
       "<div>\n",
       "<style scoped>\n",
       "    .dataframe tbody tr th:only-of-type {\n",
       "        vertical-align: middle;\n",
       "    }\n",
       "\n",
       "    .dataframe tbody tr th {\n",
       "        vertical-align: top;\n",
       "    }\n",
       "\n",
       "    .dataframe thead th {\n",
       "        text-align: right;\n",
       "    }\n",
       "</style>\n",
       "<table border=\"1\" class=\"dataframe\">\n",
       "  <thead>\n",
       "    <tr style=\"text-align: right;\">\n",
       "      <th></th>\n",
       "      <th>UK nation</th>\n",
       "      <th>Cases reported in 2022 [note 2]</th>\n",
       "      <th>Cases presumed acquired in the UK in 2023 to 2025</th>\n",
       "      <th>Cases presumed acquired outside the UK (imported) in 2023 to 2025</th>\n",
       "      <th>Cases awaiting classification in 2023 to 2025</th>\n",
       "      <th>Total (2022 to 2025)</th>\n",
       "    </tr>\n",
       "  </thead>\n",
       "  <tbody>\n",
       "    <tr>\n",
       "      <th>0</th>\n",
       "      <td>England</td>\n",
       "      <td>3553</td>\n",
       "      <td>188</td>\n",
       "      <td>137</td>\n",
       "      <td>93</td>\n",
       "      <td>3971</td>\n",
       "    </tr>\n",
       "    <tr>\n",
       "      <th>1</th>\n",
       "      <td>Northern Ireland</td>\n",
       "      <td>34</td>\n",
       "      <td>5</td>\n",
       "      <td>3</td>\n",
       "      <td>0</td>\n",
       "      <td>42</td>\n",
       "    </tr>\n",
       "    <tr>\n",
       "      <th>2</th>\n",
       "      <td>Scotland</td>\n",
       "      <td>97</td>\n",
       "      <td>4</td>\n",
       "      <td>9</td>\n",
       "      <td>5</td>\n",
       "      <td>115</td>\n",
       "    </tr>\n",
       "    <tr>\n",
       "      <th>3</th>\n",
       "      <td>Wales</td>\n",
       "      <td>48</td>\n",
       "      <td>4</td>\n",
       "      <td>2</td>\n",
       "      <td>2</td>\n",
       "      <td>56</td>\n",
       "    </tr>\n",
       "    <tr>\n",
       "      <th>4</th>\n",
       "      <td>Total</td>\n",
       "      <td>3732</td>\n",
       "      <td>201</td>\n",
       "      <td>151</td>\n",
       "      <td>100</td>\n",
       "      <td>4184</td>\n",
       "    </tr>\n",
       "  </tbody>\n",
       "</table>\n",
       "</div>"
      ],
      "text/plain": [
       "          UK nation  Cases reported in 2022 [note 2]  \\\n",
       "0           England                             3553   \n",
       "1  Northern Ireland                               34   \n",
       "2          Scotland                               97   \n",
       "3             Wales                               48   \n",
       "4             Total                             3732   \n",
       "\n",
       "   Cases presumed acquired in the UK in 2023 to 2025  \\\n",
       "0                                                188   \n",
       "1                                                  5   \n",
       "2                                                  4   \n",
       "3                                                  4   \n",
       "4                                                201   \n",
       "\n",
       "   Cases presumed acquired outside the UK (imported) in 2023 to 2025  \\\n",
       "0                                                137                   \n",
       "1                                                  3                   \n",
       "2                                                  9                   \n",
       "3                                                  2                   \n",
       "4                                                151                   \n",
       "\n",
       "   Cases awaiting classification in 2023 to 2025  Total (2022 to 2025)  \n",
       "0                                             93                  3971  \n",
       "1                                              0                    42  \n",
       "2                                              5                   115  \n",
       "3                                              2                    56  \n",
       "4                                            100                  4184  "
      ]
     },
     "execution_count": 35,
     "metadata": {},
     "output_type": "execute_result"
    }
   ],
   "source": [
    "pd.DataFrame.from_records(list(records.values())[0])"
   ]
  },
  {
   "cell_type": "code",
   "execution_count": 36,
   "metadata": {},
   "outputs": [],
   "source": [
    "date = \"2025-01-09\""
   ]
  },
  {
   "cell_type": "code",
   "execution_count": 37,
   "metadata": {},
   "outputs": [],
   "source": [
    "response = httpx.get(url + date)"
   ]
  },
  {
   "cell_type": "code",
   "execution_count": 39,
   "metadata": {},
   "outputs": [],
   "source": [
    "cont = json.loads(response.content)"
   ]
  },
  {
   "cell_type": "code",
   "execution_count": 40,
   "metadata": {},
   "outputs": [
    {
     "data": {
      "text/html": [
       "<div>\n",
       "<style scoped>\n",
       "    .dataframe tbody tr th:only-of-type {\n",
       "        vertical-align: middle;\n",
       "    }\n",
       "\n",
       "    .dataframe tbody tr th {\n",
       "        vertical-align: top;\n",
       "    }\n",
       "\n",
       "    .dataframe thead th {\n",
       "        text-align: right;\n",
       "    }\n",
       "</style>\n",
       "<table border=\"1\" class=\"dataframe\">\n",
       "  <thead>\n",
       "    <tr style=\"text-align: right;\">\n",
       "      <th></th>\n",
       "      <th>UK nation</th>\n",
       "      <th>Cases reported in 2022 [note 2]</th>\n",
       "      <th>Cases presumed acquired in the UK in 2023 and 2024</th>\n",
       "      <th>Cases presumed acquired outside the UK (imported) in 2023 and 2024</th>\n",
       "      <th>Cases awaiting classification in 2023 and 2024</th>\n",
       "      <th>Total (2022 to 2024)</th>\n",
       "    </tr>\n",
       "  </thead>\n",
       "  <tbody>\n",
       "    <tr>\n",
       "      <th>0</th>\n",
       "      <td>England</td>\n",
       "      <td>3553</td>\n",
       "      <td>182</td>\n",
       "      <td>129</td>\n",
       "      <td>95</td>\n",
       "      <td>3959</td>\n",
       "    </tr>\n",
       "    <tr>\n",
       "      <th>1</th>\n",
       "      <td>Northern Ireland</td>\n",
       "      <td>34</td>\n",
       "      <td>4</td>\n",
       "      <td>3</td>\n",
       "      <td>0</td>\n",
       "      <td>41</td>\n",
       "    </tr>\n",
       "    <tr>\n",
       "      <th>2</th>\n",
       "      <td>Scotland</td>\n",
       "      <td>97</td>\n",
       "      <td>4</td>\n",
       "      <td>8</td>\n",
       "      <td>4</td>\n",
       "      <td>113</td>\n",
       "    </tr>\n",
       "    <tr>\n",
       "      <th>3</th>\n",
       "      <td>Wales</td>\n",
       "      <td>48</td>\n",
       "      <td>3</td>\n",
       "      <td>2</td>\n",
       "      <td>0</td>\n",
       "      <td>53</td>\n",
       "    </tr>\n",
       "    <tr>\n",
       "      <th>4</th>\n",
       "      <td>Total</td>\n",
       "      <td>3732</td>\n",
       "      <td>193</td>\n",
       "      <td>142</td>\n",
       "      <td>99</td>\n",
       "      <td>4166</td>\n",
       "    </tr>\n",
       "  </tbody>\n",
       "</table>\n",
       "</div>"
      ],
      "text/plain": [
       "          UK nation  Cases reported in 2022 [note 2]  \\\n",
       "0           England                             3553   \n",
       "1  Northern Ireland                               34   \n",
       "2          Scotland                               97   \n",
       "3             Wales                               48   \n",
       "4             Total                             3732   \n",
       "\n",
       "   Cases presumed acquired in the UK in 2023 and 2024  \\\n",
       "0                                                182    \n",
       "1                                                  4    \n",
       "2                                                  4    \n",
       "3                                                  3    \n",
       "4                                                193    \n",
       "\n",
       "   Cases presumed acquired outside the UK (imported) in 2023 and 2024  \\\n",
       "0                                                129                    \n",
       "1                                                  3                    \n",
       "2                                                  8                    \n",
       "3                                                  2                    \n",
       "4                                                142                    \n",
       "\n",
       "   Cases awaiting classification in 2023 and 2024  Total (2022 to 2024)  \n",
       "0                                              95                  3959  \n",
       "1                                               0                    41  \n",
       "2                                               4                   113  \n",
       "3                                               0                    53  \n",
       "4                                              99                  4166  "
      ]
     },
     "execution_count": 40,
     "metadata": {},
     "output_type": "execute_result"
    }
   ],
   "source": [
    "pd.DataFrame.from_records(list(cont[\"records\"].values())[0])"
   ]
  },
  {
   "cell_type": "code",
   "execution_count": null,
   "metadata": {},
   "outputs": [],
   "source": []
  }
 ],
 "metadata": {
  "kernelspec": {
   "display_name": ".venv",
   "language": "python",
   "name": "python3"
  },
  "language_info": {
   "codemirror_mode": {
    "name": "ipython",
    "version": 3
   },
   "file_extension": ".py",
   "mimetype": "text/x-python",
   "name": "python",
   "nbconvert_exporter": "python",
   "pygments_lexer": "ipython3",
   "version": "3.12.8"
  }
 },
 "nbformat": 4,
 "nbformat_minor": 2
}
